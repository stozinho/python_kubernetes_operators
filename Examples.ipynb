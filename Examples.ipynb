{
 "cells": [
  {
   "cell_type": "markdown",
   "id": "2a1dd9d9-a593-4242-996e-9732ec8a2350",
   "metadata": {},
   "source": [
    "# Python Standard Libraries"
   ]
  },
  {
   "cell_type": "markdown",
   "id": "57ed2708-bc38-4668-a4f4-573c5053b27e",
   "metadata": {},
   "source": [
    "### 1. `collections`\n",
    "This module provides alternatives to Python’s general-purpose built-in containers like `list`, `dict`, etc.\n",
    "\n",
    "- **Example: `defaultdict`**"
   ]
  },
  {
   "cell_type": "code",
   "execution_count": null,
   "id": "93c472d5-1180-4bc5-b9ce-19c3cfb93015",
   "metadata": {},
   "outputs": [],
   "source": [
    "from collections import defaultdict\n",
    "\n",
    "dd = defaultdict(int)\n",
    "dd['apple'] += 1\n",
    "print(dd)"
   ]
  },
  {
   "cell_type": "markdown",
   "id": "608b804e-8548-4331-865e-cd216af68fb0",
   "metadata": {},
   "source": [
    "- **Example: `Counter`**"
   ]
  },
  {
   "cell_type": "code",
   "execution_count": 20,
   "id": "6332ab74-9996-48f2-ba8d-12dc49902476",
   "metadata": {},
   "outputs": [
    {
     "name": "stdout",
     "output_type": "stream",
     "text": [
      "Counter({'apple': 3, 'banana': 2, 'orange': 1})\n"
     ]
    }
   ],
   "source": [
    "from collections import Counter\n",
    "\n",
    "words = ['apple', 'banana', 'apple', 'orange', 'banana', 'apple']\n",
    "count = Counter(words)\n",
    "print(count) "
   ]
  },
  {
   "cell_type": "markdown",
   "id": "8423b9b0-fa7e-4217-a5bb-b8d9cd41ee28",
   "metadata": {},
   "source": [
    "### 2. `datetime`\n",
    "This module supplies classes for manipulating dates and times.\n",
    "\n",
    "- **Example: Current date and time**"
   ]
  },
  {
   "cell_type": "code",
   "execution_count": 11,
   "id": "3c8bc3e2-8ae4-4903-b6d1-449f78919e70",
   "metadata": {},
   "outputs": [
    {
     "name": "stdout",
     "output_type": "stream",
     "text": [
      "2024-05-25 12:32:36.581234\n"
     ]
    }
   ],
   "source": [
    "from datetime import datetime\n",
    "\n",
    "now = datetime.now()\n",
    "print(now)"
   ]
  },
  {
   "cell_type": "markdown",
   "id": "adade95f-44c1-4162-a898-59d5717d9f00",
   "metadata": {},
   "source": [
    "- **Example: Formatting dates**"
   ]
  },
  {
   "cell_type": "code",
   "execution_count": 13,
   "id": "9bd1a0f8-f660-4ea0-933e-d9106626379d",
   "metadata": {},
   "outputs": [
    {
     "name": "stdout",
     "output_type": "stream",
     "text": [
      "2024-05-25 12:33:19\n"
     ]
    }
   ],
   "source": [
    "from datetime import datetime\n",
    "\n",
    "now = datetime.now()\n",
    "print(now.strftime(\"%Y-%m-%d %H:%M:%S\"))"
   ]
  },
  {
   "cell_type": "markdown",
   "id": "55c43e72-eb66-4705-890f-ab6a92ec1ee3",
   "metadata": {},
   "source": [
    "- **Example: My birthday - convert `datetime` to `string`**"
   ]
  },
  {
   "cell_type": "code",
   "execution_count": 19,
   "id": "ee90d52c-35ee-41e1-8d7c-28f79a8337bd",
   "metadata": {},
   "outputs": [
    {
     "name": "stdout",
     "output_type": "stream",
     "text": [
      "<class 'datetime.datetime'>\n",
      "1983-10-31 11:15:00\n",
      "1983-10-31T11:15:00\n"
     ]
    }
   ],
   "source": [
    "from datetime import datetime \n",
    "\n",
    "my_bday = datetime(1983, 10, 31, 11, 15)\n",
    "print(type(my_bday))\n",
    "print(my_bday)\n",
    "print(my_bday.isoformat())"
   ]
  },
  {
   "cell_type": "markdown",
   "id": "5f7c523f-73e3-4202-b0c7-3e12ff85e17f",
   "metadata": {},
   "source": [
    "* **Example: Convert `datetime` to `string` with `strftime`**"
   ]
  },
  {
   "cell_type": "code",
   "execution_count": 7,
   "id": "3ec644bc-ed2d-4ab3-8066-96c93247964d",
   "metadata": {},
   "outputs": [
    {
     "name": "stdout",
     "output_type": "stream",
     "text": [
      "2024 05 25 13 14 48 \n"
     ]
    }
   ],
   "source": [
    "from datetime import datetime \n",
    "\n",
    "now = datetime.now()\n",
    "now_str = now.strftime(\"%Y %m %d %H %M %S\")\n",
    "print(now_str)"
   ]
  },
  {
   "cell_type": "markdown",
   "id": "14066442-a7b9-4e3d-b983-fb1196fd0227",
   "metadata": {},
   "source": [
    "- **Example: Convert `string` to `datetime` with `strptime`**"
   ]
  },
  {
   "cell_type": "code",
   "execution_count": 22,
   "id": "f2676999-6a23-490b-9d5b-937124e48050",
   "metadata": {},
   "outputs": [
    {
     "data": {
      "text/plain": [
       "datetime.datetime(2011, 3, 7, 0, 0)"
      ]
     },
     "execution_count": 22,
     "metadata": {},
     "output_type": "execute_result"
    }
   ],
   "source": [
    "from datetime import datetime\n",
    "datetime.strptime('2011-03-07','%Y-%m-%d')"
   ]
  },
  {
   "cell_type": "markdown",
   "id": "9a7f9434-0789-432e-840f-42d19a0987ba",
   "metadata": {},
   "source": [
    "### 3. `json`\n",
    "This module provides methods to parse JSON into Python dictionaries and vice versa.\n",
    "\n",
    "`json.load` - read JSON data from a file-like object\n",
    "\n",
    "`json.loads` - read JSON data from a string"
   ]
  },
  {
   "cell_type": "markdown",
   "id": "216082e8-4129-4520-9d8e-4af9f6c195d3",
   "metadata": {},
   "source": [
    "- **Example: Read json file with `json.load`**"
   ]
  },
  {
   "cell_type": "code",
   "execution_count": 44,
   "id": "0440ef1b-ffe5-40f0-a0bd-18f3520f646e",
   "metadata": {},
   "outputs": [
    {
     "name": "stdout",
     "output_type": "stream",
     "text": [
      "[{'name': 'Alice', 'age': 30, 'city': 'New York'}, {'name': 'Bob', 'age': 22, 'city': 'Los Angeles'}, {'name': 'Charlie', 'age': 25, 'city': 'New York'}]\n"
     ]
    }
   ],
   "source": [
    "import json\n",
    "\n",
    "with open('users.json', 'r') as file:\n",
    "    data = json.load(file)\n",
    "print(data)"
   ]
  },
  {
   "cell_type": "markdown",
   "id": "aa735c5c-ebb3-4d11-b611-c0d81c2ed3bf",
   "metadata": {},
   "source": [
    "- **Example: Parse JSON string into dict with `json.loads`**"
   ]
  },
  {
   "cell_type": "code",
   "execution_count": 42,
   "id": "0bf098a4-04d0-434c-8204-97132137d1c9",
   "metadata": {},
   "outputs": [
    {
     "name": "stdout",
     "output_type": "stream",
     "text": [
      "<class 'dict'>\n",
      "{'name': 'John', 'age': 30}\n"
     ]
    }
   ],
   "source": [
    "  import json\n",
    "\n",
    "  json_string = '{\"name\": \"John\", \"age\": 30}'\n",
    "  data = json.loads(json_string)\n",
    "  print(type(data))\n",
    "  print(data)"
   ]
  },
  {
   "cell_type": "markdown",
   "id": "78e95074-2bf4-4591-b069-ce34491f1ed3",
   "metadata": {},
   "source": [
    "- **Example: Convert Python dict to JSON string with `json.dumps`**"
   ]
  },
  {
   "cell_type": "code",
   "execution_count": 40,
   "id": "6bec145f-1682-4af7-af71-997d7ec82845",
   "metadata": {},
   "outputs": [
    {
     "name": "stdout",
     "output_type": "stream",
     "text": [
      "<class 'str'>\n",
      "{\"name\": \"John\", \"age\": 30}\n"
     ]
    }
   ],
   "source": [
    "import json\n",
    "\n",
    "data = {'name': 'John', 'age': 30}\n",
    "json_string = json.dumps(data)\n",
    "print(type(json_string))\n",
    "print(json_string)"
   ]
  },
  {
   "cell_type": "markdown",
   "id": "cb9d9b78-f03b-4025-abdd-29abec92ba87",
   "metadata": {},
   "source": [
    "- **Example: Pickle to serialize data to file**\n",
    "Creates a binary file????\n",
    "w = write\n",
    "b = binary\n",
    "wb for when you need to write binary data to a file, ensuring that the data is handled as raw bytes rather than text. This can be used with the following:\n",
    "- images\n",
    "- videos\n",
    "- serialized objects (e.g. in the case of the `pickle` module)\n",
    "In binary mode, data is written and read as bytes.\n",
    "\n",
    "rb = read binary \n",
    "\n",
    "There is a lot of file modes\n",
    "\n",
    "- 'r': Read mode (default). Opens the file for reading. Raises an error if the file does not exist.\n",
    "- 'rb': Read binary mode. Opens the file for reading in binary mode. Raises an error if the file does not exist.\n",
    "- 'w': Write mode. Opens the file for writing. Creates a new file or truncates the existing file.\n",
    "- 'wb': Write binary mode. Opens the file for writing in binary mode. Creates a new file or truncates the existing file.\n",
    "- 'a': Append mode. Opens the file for appending. Creates a new file if it does not exist.\n",
    "- 'ab': Append binary mode. Opens the file for appending in binary mode. Creates a new file if it does not exist.\n",
    "- 'r+': Read/write mode. Opens the file for both reading and writing. Raises an error if the file does not exist.\n",
    "- 'rb+': Read/write binary mode. Opens the file for both reading and writing in binary mode. Raises an error if the file does not exist.\n",
    "- 'w+': Write/read mode. Opens the file for both writing and reading. Creates a new file or truncates the existing file.\n",
    "- 'wb+': Write/read binary mode. Opens the file for both writing and reading in binary mode. Creates a new file or truncates the existing file."
   ]
  },
  {
   "cell_type": "code",
   "execution_count": 44,
   "id": "98448ed4-c11c-4d79-906b-1067b6cc7643",
   "metadata": {},
   "outputs": [
    {
     "name": "stdout",
     "output_type": "stream",
     "text": [
      "{'name': 'John', 'age': 30}\n"
     ]
    }
   ],
   "source": [
    "import pickle\n",
    "data = {'name': 'John', 'age': 30}\n",
    "with open('data.pkl', 'wb') as f:\n",
    "    pickle.dump(data, f)\n",
    "\n",
    "with open('data.pkl', 'rb') as g:\n",
    "    print(pickle.load(g))"
   ]
  },
  {
   "cell_type": "markdown",
   "id": "ac627a56-ab37-4e88-8ba4-0738676bc724",
   "metadata": {},
   "source": [
    "### 4. `itertools`\n",
    "This module provides functions that create iterators for efficient looping.\n",
    "\n",
    "- **Example: `chain`**"
   ]
  },
  {
   "cell_type": "code",
   "execution_count": 6,
   "id": "c84a8b10-f280-4aab-86a8-4cb1d519180e",
   "metadata": {},
   "outputs": [
    {
     "name": "stdout",
     "output_type": "stream",
     "text": [
      "[1, 2, 3, 4, 5, 6]\n"
     ]
    }
   ],
   "source": [
    "import itertools\n",
    "\n",
    "a = [1, 2, 3]\n",
    "b = [4, 5, 6]\n",
    "combined = itertools.chain(a, b)\n",
    "print(list(combined))"
   ]
  },
  {
   "cell_type": "markdown",
   "id": "d63187af-88a9-4a5e-8cce-30bb87160851",
   "metadata": {},
   "source": [
    "- **Example: `permutations`**"
   ]
  },
  {
   "cell_type": "code",
   "execution_count": 8,
   "id": "250e3abf-a209-4218-a225-1e3c06aaae28",
   "metadata": {},
   "outputs": [
    {
     "name": "stdout",
     "output_type": "stream",
     "text": [
      "(1, 2, 3)\n",
      "(1, 3, 2)\n",
      "(2, 1, 3)\n",
      "(2, 3, 1)\n",
      "(3, 1, 2)\n",
      "(3, 2, 1)\n"
     ]
    }
   ],
   "source": [
    "import itertools\n",
    "\n",
    "perm = itertools.permutations([1, 2, 3])\n",
    "for p in perm:\n",
    "    print(p)"
   ]
  },
  {
   "cell_type": "markdown",
   "id": "ea859fb5-51a1-409d-b002-5455c14da2c8",
   "metadata": {},
   "source": [
    "### 5. `os`\n",
    "This module provides a way of using operating system dependent functionality like reading or writing to the file system.\n",
    "\n",
    "- **Example: List files in a directory**"
   ]
  },
  {
   "cell_type": "code",
   "execution_count": 5,
   "id": "6c2e3891-0307-48d1-b4d8-6b86ad7509a5",
   "metadata": {},
   "outputs": [
    {
     "name": "stdout",
     "output_type": "stream",
     "text": [
      "['my_range.py', 'CommonModules.md', 'Examples.ipynb', 'Difference.md', '.ipynb_checkpoints', 'LeastRecentlyUsedCache.md', 'users.json', 'example_filter.py', 'README.md', 'Untitled.ipynb', 'GeneratorExpression.md', 'MagicMethods.md', 'venv', 'ListComprehension.md', 'any.md']\n"
     ]
    }
   ],
   "source": [
    "import os\n",
    "\n",
    "files = os.listdir('.')\n",
    "print(files)"
   ]
  },
  {
   "cell_type": "code",
   "execution_count": 23,
   "id": "4ef5c1fd-59c1-4993-8de6-b9ae4d6865d5",
   "metadata": {},
   "outputs": [
    {
     "name": "stdout",
     "output_type": "stream",
     "text": [
      "/home/mstorry/code/nonegress/coreweave\n"
     ]
    }
   ],
   "source": [
    "import os\n",
    "print(os.getcwd())"
   ]
  },
  {
   "cell_type": "markdown",
   "id": "a02160c3-3d51-4146-a2d7-3ce34129a27e",
   "metadata": {},
   "source": [
    "- **Example: Check if a file exists**"
   ]
  },
  {
   "cell_type": "code",
   "execution_count": 38,
   "id": "a511c2e7-0141-4968-8e4a-f5c7e8132cf1",
   "metadata": {},
   "outputs": [
    {
     "name": "stdout",
     "output_type": "stream",
     "text": [
      "False\n",
      "True\n"
     ]
    }
   ],
   "source": [
    "import os.path\n",
    "print(os.path.exists('myfile.txt'))\n",
    "print(os.path.exists('example.txt'))"
   ]
  },
  {
   "cell_type": "markdown",
   "id": "2eefb351-94e3-4037-b9a7-4b7a60513692",
   "metadata": {},
   "source": [
    "### 6. `re`"
   ]
  },
  {
   "cell_type": "markdown",
   "id": "ae21d8e7-d19d-4a0b-8cf4-d23a88db524f",
   "metadata": {},
   "source": [
    "- **Example: Simple match**"
   ]
  },
  {
   "cell_type": "code",
   "execution_count": 1,
   "id": "7d9b1b4b-be47-4cb9-bd91-45b669fa32e2",
   "metadata": {},
   "outputs": [
    {
     "name": "stdout",
     "output_type": "stream",
     "text": [
      "2023\n"
     ]
    }
   ],
   "source": [
    "import re\n",
    "\n",
    "pattern = r'\\d+'\n",
    "text = 'The year is 2023'\n",
    "match = re.search(pattern, text)\n",
    "if match:\n",
    "    print(match.group())"
   ]
  },
  {
   "cell_type": "markdown",
   "id": "6ecc19d5-436d-4017-b30e-ed68effddb3e",
   "metadata": {},
   "source": [
    "- **Example: Find all matches**"
   ]
  },
  {
   "cell_type": "code",
   "execution_count": 2,
   "id": "ebedb108-db52-408f-8a0f-5df2fc9ce351",
   "metadata": {},
   "outputs": [
    {
     "name": "stdout",
     "output_type": "stream",
     "text": [
      "['This', 'is', 'a', 'test']\n"
     ]
    }
   ],
   "source": [
    "import re\n",
    "\n",
    "pattern = r'\\b\\w+\\b'\n",
    "text = 'This is a test.'\n",
    "matches = re.findall(pattern, text)\n",
    "print(matches)  # ['This', 'is', 'a', 'test']"
   ]
  },
  {
   "cell_type": "markdown",
   "id": "3675d4fd-3f4d-4ac6-b795-22e7810b3804",
   "metadata": {},
   "source": [
    "### 7. `sys` \n",
    "This module provides access to some variables used or maintained by the interpreter and to functions that interact with the interpreter.\n",
    "- **Example: Command-line arguments**"
   ]
  },
  {
   "cell_type": "code",
   "execution_count": 4,
   "id": "712385db-7553-4ec9-a309-42731dac87f4",
   "metadata": {},
   "outputs": [
    {
     "name": "stdout",
     "output_type": "stream",
     "text": [
      "['/home/mstorry/code/nonegress/coreweave/venv/lib/python3.11/site-packages/ipykernel_launcher.py', '-f', '/home/mstorry/.local/share/jupyter/runtime/kernel-9f2be8dd-bb30-49ea-b8ff-3ae53088d505.json']\n"
     ]
    }
   ],
   "source": [
    "import sys\n",
    "\n",
    "args = sys.argv\n",
    "print(args)  # e.g., ['script.py', 'arg1', 'arg2']"
   ]
  },
  {
   "cell_type": "markdown",
   "id": "e78cd263-49be-4714-88e3-ec8421071bef",
   "metadata": {},
   "source": [
    "sys.exit . you know what this does but don't want to run it here just in case "
   ]
  },
  {
   "cell_type": "markdown",
   "id": "25dd7b15-5f41-4cd9-b1f4-f9bc54bf217a",
   "metadata": {},
   "source": [
    "- **Example: Print python version**"
   ]
  },
  {
   "cell_type": "code",
   "execution_count": 24,
   "id": "d0de4f54-eb34-4240-9d4c-e483990d86f9",
   "metadata": {},
   "outputs": [
    {
     "name": "stdout",
     "output_type": "stream",
     "text": [
      "3.11.8 (main, Mar 21 2024, 11:34:53) [GCC 11.4.0]\n"
     ]
    }
   ],
   "source": [
    "import sys\n",
    "print(sys.version)"
   ]
  },
  {
   "cell_type": "markdown",
   "id": "2acff26d-71f2-4e2b-af8c-26269130b041",
   "metadata": {},
   "source": [
    "### 8. `functools`\n",
    "This module provides higher-order functions that act on or return other functions.\n",
    "- **Example: `lru_cache`**"
   ]
  },
  {
   "cell_type": "code",
   "execution_count": 25,
   "id": "ad0b8238-77a9-4f35-bbe4-028b17fbc3cd",
   "metadata": {},
   "outputs": [
    {
     "name": "stdout",
     "output_type": "stream",
     "text": [
      "55\n"
     ]
    }
   ],
   "source": [
    "  from functools import lru_cache\n",
    "\n",
    "  @lru_cache(maxsize=32)\n",
    "  def fib(n):\n",
    "      if n < 2:\n",
    "          return n\n",
    "      return fib(n-1) + fib(n-2)\n",
    "\n",
    "  print(fib(10))"
   ]
  },
  {
   "cell_type": "markdown",
   "id": "9f12cb2a-1b7b-44b3-a57c-a9beeca26573",
   "metadata": {},
   "source": [
    "### 9. `subprocess` - spawn new processes\n",
    "Allows you to spawn new processes, connect to their input/output/error pipes, and obtain their return codes."
   ]
  },
  {
   "cell_type": "code",
   "execution_count": 26,
   "id": "329f35f6-be40-48b8-9ba3-b3aa5a2b54b0",
   "metadata": {},
   "outputs": [
    {
     "name": "stdout",
     "output_type": "stream",
     "text": [
      "total 76\n",
      "-rw-r--r-- 1 mstorry mstorry  3909 May 24 11:20 CommonModules.md\n",
      "-rw-r--r-- 1 mstorry mstorry    58 May 24 12:17 Difference.md\n",
      "-rw-r--r-- 1 mstorry mstorry 13601 May 25 12:44 Examples.ipynb\n",
      "-rw-r--r-- 1 mstorry mstorry  3425 May 24 12:16 GeneratorExpression.md\n",
      "-rw-r--r-- 1 mstorry mstorry  2508 May 24 11:31 LeastRecentlyUsedCache.md\n",
      "-rw-r--r-- 1 mstorry mstorry  3470 May 24 12:17 ListComprehension.md\n",
      "-rw-r--r-- 1 mstorry mstorry  6098 May 24 11:58 MagicMethods.md\n",
      "-rw-r--r-- 1 mstorry mstorry  5195 May 24 10:28 README.md\n",
      "-rw-r--r-- 1 mstorry mstorry    72 May 24 16:51 Untitled.ipynb\n",
      "-rw-r--r-- 1 mstorry mstorry  2816 May 24 12:10 any.md\n",
      "-rw-r--r-- 1 mstorry mstorry   723 May 24 15:03 example_filter.py\n",
      "-rw-r--r-- 1 mstorry mstorry   569 May 24 12:06 my_range.py\n",
      "-rw-r--r-- 1 mstorry mstorry   161 May 24 15:04 users.json\n",
      "drwxr-xr-x 7 mstorry mstorry  4096 May 24 16:50 venv\n",
      "\n"
     ]
    }
   ],
   "source": [
    "import subprocess\n",
    "result = subprocess.run(['ls', '-l'], capture_output=True, text=True)\n",
    "print(result.stdout)"
   ]
  },
  {
   "cell_type": "markdown",
   "id": "4250243c-bf78-474b-b8a0-b0e427b924f8",
   "metadata": {},
   "source": [
    "### 10. **`shutil`** - copy, move etc files\n",
    "Provides high-level operations on files and collections of files. Examples: copying, moving, removing, files and dirs\n",
    "\n",
    "#### Creating, copying and finally reading a file \n",
    "The open() function is used to open a file. If the file does not exist, it can create a new one. You need to specify the file name and the mode in which you want to open the file. The most common modes are:\n",
    "\n",
    "- 'w': Write mode. Creates a new file or overwrites an existing file.\n",
    "- 'x': Exclusive creation mode. Creates a new file but fails if the file already exists.\n",
    "- 'a': Append mode. Opens the file for writing and appends to the end of the file if it exists.\n",
    "- 'r': Read mode. Opens the file for reading."
   ]
  },
  {
   "cell_type": "code",
   "execution_count": 35,
   "id": "6ff73eea-47a4-467b-aed5-01e6a9ac419b",
   "metadata": {},
   "outputs": [
    {
     "name": "stdout",
     "output_type": "stream",
     "text": [
      "Copy this , blah blah!\n"
     ]
    }
   ],
   "source": [
    "import shutil\n",
    "\n",
    "with open('source.txt', 'w') as file:\n",
    "    file.write('Copy this , blah blah!')\n",
    "\n",
    "shutil.copy('source.txt', 'destination.txt')\n",
    "\n",
    "with open('destination.txt', 'r') as dest_file:\n",
    "    content = dest_file.read()\n",
    "    print(content)\n"
   ]
  },
  {
   "cell_type": "markdown",
   "id": "5afe0263-4626-4350-9f6a-4b572b60f4c2",
   "metadata": {},
   "source": [
    "#### Read Lines into a List"
   ]
  },
  {
   "cell_type": "code",
   "execution_count": 36,
   "id": "51f2bd34-b8b2-4b7d-a136-569b9bb567fe",
   "metadata": {},
   "outputs": [
    {
     "name": "stdout",
     "output_type": "stream",
     "text": [
      "['line1 \\n', 'line2\\n', 'line3\\n', 'linen\\n']\n"
     ]
    }
   ],
   "source": [
    "# Open the file for reading\n",
    "with open('example.txt', 'r') as file:\n",
    "    # Read all lines into a list\n",
    "    lines = file.readlines()\n",
    "\n",
    "# Print the list of lines\n",
    "print(lines)"
   ]
  },
  {
   "cell_type": "markdown",
   "id": "7d14ca9c-59fa-4a1d-8221-2191dcdf2d06",
   "metadata": {},
   "source": [
    "### 11. `pathlib` \n",
    "Offers an object-oriented approach to handling filesystem paths. Basically same as `os.path.exists('myfile.txt)`\n"
   ]
  },
  {
   "cell_type": "code",
   "execution_count": 39,
   "id": "f377247b-c325-4098-87eb-d34d957db010",
   "metadata": {},
   "outputs": [
    {
     "name": "stdout",
     "output_type": "stream",
     "text": [
      "True\n"
     ]
    }
   ],
   "source": [
    "from pathlib import Path\n",
    "\n",
    "path = Path('example.txt')\n",
    "print(path.exists())"
   ]
  },
  {
   "cell_type": "markdown",
   "id": "fd555539-0af5-48bb-8fa9-95ee7e4898d4",
   "metadata": {},
   "source": [
    "### 12. `socket`\n",
    "Provides low level networking interface\n",
    "e.g. for creating client-server applications"
   ]
  },
  {
   "cell_type": "code",
   "execution_count": 50,
   "id": "0dbeceee-6f10-43ce-a3ac-69d862178ec6",
   "metadata": {},
   "outputs": [],
   "source": [
    "#import socket\n",
    "#s = socket.socket(socket.AF_INET, socket.SOCK_STREAM)\n",
    "#s.connect(('localhost', 8080))"
   ]
  },
  {
   "cell_type": "markdown",
   "id": "c93590a7-f9e5-4989-8888-e7c36658f90d",
   "metadata": {},
   "source": [
    "### 13 . `http.client`\n",
    "Provides classes for HTTP and HTTPS connections \n",
    "E.g. for making HTTP requests - although usually we would just use requests module instead"
   ]
  },
  {
   "cell_type": "code",
   "execution_count": 46,
   "id": "ffd0833c-25db-44ce-8ef9-3d8c42018f85",
   "metadata": {},
   "outputs": [
    {
     "name": "stdout",
     "output_type": "stream",
     "text": [
      "200 OK\n"
     ]
    }
   ],
   "source": [
    "import http.client\n",
    "conn = http.client.HTTPSConnection(\"www.google.com\")\n",
    "conn.request(\"GET\", \"/\")\n",
    "response = conn.getresponse()\n",
    "print(response.status, response.reason)"
   ]
  },
  {
   "cell_type": "markdown",
   "id": "355b6921-e436-4160-ad37-2f36010b922f",
   "metadata": {},
   "source": [
    "### 14. `urllib`\n",
    "A package for working with URLs (fetching data across the web) \n",
    "Opens URLS, handles data, parses results"
   ]
  },
  {
   "cell_type": "code",
   "execution_count": 48,
   "id": "fb419064-8cfe-4e9f-b551-b936c917deff",
   "metadata": {},
   "outputs": [],
   "source": [
    "import urllib.request\n",
    "with urllib.request.urlopen('http://www.google.com') as response:\n",
    "    html = response.read()\n",
    "# print(html)"
   ]
  },
  {
   "cell_type": "markdown",
   "id": "f45f8403-1c11-4749-9e5d-a2775da4a492",
   "metadata": {},
   "source": [
    "### 15. `platform` \n",
    "Access underlying platform's identifying data. E.g. info about the OS, python version. "
   ]
  },
  {
   "cell_type": "code",
   "execution_count": null,
   "id": "5780efd1-93f6-4503-b661-8f4086534d97",
   "metadata": {},
   "outputs": [],
   "source": [
    "import platform\n",
    "print(platform.system())"
   ]
  },
  {
   "cell_type": "markdown",
   "id": "c331aa23-2e30-462c-a8fc-7b448214baf8",
   "metadata": {},
   "source": [
    "### 16. `timeit` \n",
    "Measure execution of code snippets"
   ]
  },
  {
   "cell_type": "code",
   "execution_count": 1,
   "id": "1214beb8-5c07-4b82-9b57-b502ec399dc0",
   "metadata": {},
   "outputs": [
    {
     "name": "stdout",
     "output_type": "stream",
     "text": [
      "0.10210458300025493\n"
     ]
    }
   ],
   "source": [
    "import timeit\n",
    "print(timeit.timeit('\"-\".join(str(n) for n in range(100))', number=10000))"
   ]
  },
  {
   "cell_type": "markdown",
   "id": "bce79e3d-e0d9-43e2-b3bf-5469e5b072d2",
   "metadata": {},
   "source": [
    "### 17. `profile` and `cProfile` \n",
    "Provides profiling (performance analysis) of Python programs\n",
    "\n",
    "Example: \n",
    "\n",
    "```python\n",
    "import cProfile\n",
    "cProfile.run('foo()')\n",
    "```"
   ]
  },
  {
   "cell_type": "markdown",
   "id": "237f5577-fd75-4287-82bb-a7ac00cab909",
   "metadata": {},
   "source": [
    "### 18. Read data from input / stdin \n",
    "First example, is using sys.stdin"
   ]
  },
  {
   "cell_type": "code",
   "execution_count": null,
   "id": "0238d4d2-ca29-4d4a-8810-0eb369dd09db",
   "metadata": {},
   "outputs": [],
   "source": [
    "import sys\n",
    "data = sys.stdin.readlines()"
   ]
  },
  {
   "cell_type": "code",
   "execution_count": null,
   "id": "d2724cd5-a45d-4d61-8be4-860f777300a8",
   "metadata": {},
   "outputs": [],
   "source": [
    "data = input()"
   ]
  },
  {
   "cell_type": "markdown",
   "id": "1d6266ce-d390-4ebc-992d-07b9e07ce3bc",
   "metadata": {},
   "source": [
    "# Hackerrank examples\n",
    "input is a line delimited list of numbers \n",
    "we use `product` to combine the lists\n",
    "we output as a space separated string of Tuple"
   ]
  },
  {
   "cell_type": "code",
   "execution_count": null,
   "id": "7dbaa9bf-ecf0-4229-be35-c51d27714ca7",
   "metadata": {},
   "outputs": [],
   "source": [
    "from itertools import product\n",
    "import sys\n",
    "\n",
    "# Read input from STDIN\n",
    "data = sys.stdin.readlines()\n",
    "\n",
    "# Parse the input data\n",
    "a_list = list(map(int, data[0].split()))\n",
    "b_list = list(map(int, data[1].split()))\n",
    "\n",
    "# Generate the Cartesian product\n",
    "result = list(product(a_list, b_list))\n",
    "\n",
    "# Format the output as a space-separated string of tuples\n",
    "formatted_result = ' '.join(map(str, result))\n",
    "\n",
    "# Print the formatted result\n",
    "print(formatted_result)\n"
   ]
  },
  {
   "cell_type": "markdown",
   "id": "7ee937dd-350a-4346-9d86-43e3154e0861",
   "metadata": {},
   "source": [
    "# Map()"
   ]
  },
  {
   "cell_type": "code",
   "execution_count": 8,
   "id": "5f92440d-477e-4144-8b5b-81b35353c990",
   "metadata": {},
   "outputs": [
    {
     "name": "stdout",
     "output_type": "stream",
     "text": [
      "<class 'map'>\n",
      "[1, 4, 9, 16, 25]\n"
     ]
    }
   ],
   "source": [
    "def square(x):\n",
    "    return x * x\n",
    "\n",
    "# List of numbers\n",
    "numbers = [1, 2, 3, 4, 5]\n",
    "\n",
    "# Apply the 'square' function to each item of 'numbers' using 'map'\n",
    "squared_numbers = map(square, numbers)\n",
    "print(type(squared_numbers))\n",
    "\n",
    "# Convert the map object to a list and print it\n",
    "print(list(squared_numbers))"
   ]
  },
  {
   "cell_type": "markdown",
   "id": "da84920a-a737-49ae-a1f4-8a7ed40917b6",
   "metadata": {},
   "source": [
    "# List Comprehension\n",
    "Print an array of the elements that do not sum to `n = 3` (taken from hackerrank.com) "
   ]
  },
  {
   "cell_type": "code",
   "execution_count": 9,
   "id": "9fa7fec9-3883-4c7c-9829-74844d3e2aa1",
   "metadata": {},
   "outputs": [
    {
     "name": "stdout",
     "output_type": "stream",
     "text": [
      "[[0, 0, 0], [0, 0, 1], [0, 0, 2], [0, 1, 0], [0, 1, 1], [1, 0, 0], [1, 0, 1], [1, 1, 0], [1, 1, 2]]\n"
     ]
    }
   ],
   "source": [
    "import itertools\n",
    "\n",
    "if __name__ == '__main__':\n",
    "    x = 1\n",
    "    y = 1\n",
    "    z = 2\n",
    "    n = 3\n",
    "    \n",
    "\n",
    "cartesian = [list(i) for i in itertools.product(range(x+1), range(y+1), range(z+1)) if sum(i) != n]\n",
    "\n",
    "print(cartesian)"
   ]
  },
  {
   "cell_type": "markdown",
   "id": "73592aa4-d07b-4bcc-8dc2-4d5cc04ef35d",
   "metadata": {},
   "source": [
    "# Input \n",
    "you can use `sys.stdin` or you can simply use `input()`\n",
    "\n",
    "e.g. in the above example (cartesian product using a list comprehension) you can set this to take in the values \n",
    "\n",
    "```python\n",
    "x = int(input())\n",
    "y = int(input())\n",
    "z = int(input())\n",
    "n = int(input())\n",
    "```"
   ]
  },
  {
   "cell_type": "markdown",
   "id": "adc135fb-b1fd-468d-89e5-77dc5cb7825d",
   "metadata": {},
   "source": [
    "# `zip()`\n",
    "Iterate over several iterables in paralle, producing tuples with an item from each one\n",
    "Returns an iterator of tuples. \n",
    "Turns rows into columns, and columns into rows (similar to 'transposing a matrix')"
   ]
  },
  {
   "cell_type": "code",
   "execution_count": 11,
   "id": "58232f9c-eb00-403e-8a0a-ea0b2e95e282",
   "metadata": {},
   "outputs": [
    {
     "name": "stdout",
     "output_type": "stream",
     "text": [
      "(1, 'sugar')\n",
      "(2, 'spice')\n",
      "(3, 'everything nice')\n"
     ]
    }
   ],
   "source": [
    "my_zip = zip([1, 2, 3], ['sugar', 'spice', 'everything nice'])\n",
    "\n",
    "for i in my_zip:\n",
    "    print(i)"
   ]
  },
  {
   "cell_type": "markdown",
   "id": "5fa72c37-ede2-44f8-ab22-0c37b9075a5c",
   "metadata": {},
   "source": [
    "# `unittest` module\n",
    "\n",
    "The unittest module in Python is a built-in library that provides a framework for writing and running tests. Below is a simple example demonstrating how to use the unittest module to test a basic function."
   ]
  },
  {
   "cell_type": "code",
   "execution_count": 48,
   "id": "b2d8f537-9e26-490c-92d9-e7fa6deff40e",
   "metadata": {},
   "outputs": [
    {
     "name": "stderr",
     "output_type": "stream",
     "text": [
      "E\n",
      "======================================================================\n",
      "ERROR: /home/mstorry/ (unittest.loader._FailedTest./home/mstorry/)\n",
      "----------------------------------------------------------------------\n",
      "AttributeError: module '__main__' has no attribute '/home/mstorry/'\n",
      "\n",
      "----------------------------------------------------------------------\n",
      "Ran 1 test in 0.003s\n",
      "\n",
      "FAILED (errors=1)\n"
     ]
    },
    {
     "ename": "SystemExit",
     "evalue": "True",
     "output_type": "error",
     "traceback": [
      "An exception has occurred, use %tb to see the full traceback.\n",
      "\u001b[0;31mSystemExit\u001b[0m\u001b[0;31m:\u001b[0m True\n"
     ]
    },
    {
     "name": "stderr",
     "output_type": "stream",
     "text": [
      "/home/mstorry/code/nonegress/coreweave/venv/lib/python3.11/site-packages/IPython/core/interactiveshell.py:3585: UserWarning: To exit: use 'exit', 'quit', or Ctrl-D.\n",
      "  warn(\"To exit: use 'exit', 'quit', or Ctrl-D.\", stacklevel=1)\n"
     ]
    }
   ],
   "source": [
    "# original code\n",
    "def add(a, b):\n",
    "    return a + b\n",
    "\n",
    "# unittest\n",
    "\n",
    "import unittest\n",
    "class TestMathFunctions(unittest.TestCase):\n",
    "    \n",
    "    def test_add(self):\n",
    "        self.assertEqual(add(1, 2), 3)\n",
    "        self.assertEqual(add(-1, 1), 0)\n",
    "        self.assertEqual(add(-1, -1), -2)\n",
    "        self.assertEqual(add(0, 0), 0)\n",
    "\n",
    "unittest.main()"
   ]
  },
  {
   "cell_type": "markdown",
   "id": "877cd202-ffe9-42e2-b5f2-44c19f00d0ab",
   "metadata": {},
   "source": [
    "# Class methods\n",
    "look at this example of how to add class methods, so you can use operators like <=, < > etc. \n",
    "\n",
    "Also includes an example so that `print()` works on your class"
   ]
  },
  {
   "cell_type": "code",
   "execution_count": 27,
   "id": "6fb8fdc2-d1da-4a9c-b782-edc71a88dd4b",
   "metadata": {},
   "outputs": [
    {
     "name": "stdout",
     "output_type": "stream",
     "text": [
      "True\n",
      "False\n",
      "True\n",
      "True\n",
      "False\n",
      "False\n",
      "True\n",
      "15\n",
      "False\n",
      "True\n",
      "MyNumber(5)\n",
      "5\n",
      "MyNumber(5)\n",
      "MyNumber(99)\n"
     ]
    }
   ],
   "source": [
    "class MyNumber:\n",
    "    def __init__(self, value):\n",
    "        self.value = value\n",
    "\n",
    "    def __le__(self, other):\n",
    "        if isinstance(other, MyNumber):\n",
    "            return self.value <= other.value\n",
    "        return NotImplemented\n",
    "\n",
    "    def __lt__(self, other):\n",
    "        if isinstance(other, MyNumber):\n",
    "            return self.value < other.value\n",
    "        return NotImplemented\n",
    "    \n",
    "    def __gt__(self, other): \n",
    "        if isinstance(other, MyNumber):\n",
    "            return self.value > other.value\n",
    "        return NotImplemented\n",
    "\n",
    "    def __add__(self, other):\n",
    "        if isinstance(other, MyNumber):\n",
    "            return self.value + other.value\n",
    "        return NotImplemented\n",
    "\n",
    "    def __eq__(self, other):\n",
    "        if isinstance(other, MyNumber):\n",
    "            return self.value == other.value\n",
    "        return NotImplemented\n",
    "\n",
    "    def __str__(self):        \n",
    "        return(f\"MyNumber({self.value})\")\n",
    "\n",
    "    def get_value(self):\n",
    "        return self.value\n",
    "\n",
    "    def set_value(self, value):\n",
    "        if value > 0:\n",
    "            self.value = value\n",
    "\n",
    "# Create instances\n",
    "a = MyNumber(5)\n",
    "b = MyNumber(10)\n",
    "\n",
    "# Use <= operator (calls __le__)\n",
    "print(a <= b)  # Output: True\n",
    "print(b <= a)  # Output: False\n",
    "\n",
    "# Call __le__ directly (not common practice)\n",
    "print(a.__le__(b))  # Output: True\n",
    "\n",
    "# __lt__\n",
    "print(a < b)\n",
    "print(b < a)\n",
    "\n",
    "# __gt__ \n",
    "print(a > b)\n",
    "print(b > a)\n",
    "\n",
    "# __add__\n",
    "print(a + b)\n",
    "\n",
    "# __eq__ \n",
    "print(a == b)\n",
    "print(a != b)\n",
    "\n",
    "# __str__\n",
    "print(a)\n",
    "str(a)\n",
    "\n",
    "# get_value\n",
    "print(a.get_value())\n",
    "\n",
    "# set_value \n",
    "print(a)\n",
    "a.set_value(99)\n",
    "print(a)"
   ]
  },
  {
   "cell_type": "markdown",
   "id": "aaad336d-2b43-44a8-87f1-e7390972fcdf",
   "metadata": {},
   "source": [
    "## Classes and Objects\n",
    "1. A class is a template/blueprint for creating objects. Defines a set of *attributes* and *methods* that the created objects will have (e.g. an object can perform on itself as a class method).\n",
    "2. An Object is an instance of a Class. It is created using the class definition and can have unique values for its attributes.\n",
    "\n",
    "## Encapsulation\n",
    "1. Encapsulation is the concept of bundling data (attributes) and methods that operate on the data into a single unit, or class. It also restricts direct access to some of the object's components, which is a way of preventing accidental interference and misuses of the data\n",
    "2. Access to the data is typically controlled via methods (getters and setters)\n",
    "\n",
    "## Inheritance\n",
    "1. Inheritance is a way to form new classes using classes that have already been defined. it helps in reusability and establishing a natural hierarchy.\n",
    "2. The new class, called a *derived/child* class, inherits attributes and methods from the *base/parent* class\n",
    "\n",
    "## Polymorphism\n",
    "1. Polymorphism allows methods to do different things based on the object it is acting upon, even though they share the same name.\n",
    "2. It can be achieved through *method overriding* (inherited classes override methods of the parent class) or method overloading (same method name with different parameters (signature) in the same class)\n"
   ]
  },
  {
   "cell_type": "code",
   "execution_count": 37,
   "id": "4347d200-5209-4d33-9bd1-b28dd5d90cfb",
   "metadata": {},
   "outputs": [
    {
     "name": "stdout",
     "output_type": "stream",
     "text": [
      "Classes and objects\n",
      "Dixie says Woof!\n",
      "\n",
      "Encapsulation examples\n",
      "Alices age:\n",
      "30\n",
      "Alices updated age:\n",
      "31\n",
      "\n",
      "Inheritance examples\n",
      "Whiskers\n",
      "Meow\n",
      "\n",
      "Polymorphism examples\n",
      "Flying high!\n",
      "Penguins can't fly.\n"
     ]
    }
   ],
   "source": [
    "# classes and objects. simple class\n",
    "class Dog:\n",
    "    def __init__(self, name, age, breed):\n",
    "        self.name = name \n",
    "        self.age = age\n",
    "        self.breed = breed \n",
    "\n",
    "    def bark(self):\n",
    "        return f\"{self.name} says Woof!\"\n",
    "\n",
    "print(\"Classes and objects\")\n",
    "my_dog = Dog(\"Dixie\", 10, \"Puggle\")\n",
    "print(my_dog.bark())\n",
    "\n",
    "# Encapsulation\n",
    "class Person:\n",
    "    def __init__(self, name, age):\n",
    "        self.__name = name\n",
    "        self.__age = age  # Private attribute\n",
    "\n",
    "    def get_age(self):\n",
    "        return self.__age\n",
    "\n",
    "    def set_age(self, age):\n",
    "        if age > 0:\n",
    "            self.__age = age\n",
    "\n",
    "print(\"\\nEncapsulation examples\")\n",
    "p = Person(\"Alice\", 30)\n",
    "print(\"Alices age:\")\n",
    "print(p.get_age())\n",
    "p.set_age(31)\n",
    "print(\"Alices updated age:\")\n",
    "print(p.get_age())  \n",
    "\n",
    "# Inheritance\n",
    "class Animal:\n",
    "    def __init__(self, name):\n",
    "        self.name = name\n",
    "\n",
    "    def make_sound(self):\n",
    "        pass\n",
    "\n",
    "class Cat(Animal):\n",
    "    def make_sound(self):\n",
    "        return \"Meow\"\n",
    "\n",
    "my_cat = Cat(\"Whiskers\")\n",
    "print(\"\\nInheritance examples\")\n",
    "print(my_cat.name)         \n",
    "print(my_cat.make_sound()) \n",
    "\n",
    "# Polymorphism \n",
    "class Bird:\n",
    "    def fly(self):\n",
    "        return \"Flying high!\"\n",
    "\n",
    "class Penguin(Bird):\n",
    "    def fly(self):\n",
    "        return \"Penguins can't fly.\"\n",
    "\n",
    "# i don't like how Python does this. it's not obvious that \n",
    "# this function has to act on an instance of a bird. \n",
    "def make_bird_fly(bird):\n",
    "    return bird.fly()\n",
    "\n",
    "eagle = Bird()\n",
    "penguin = Penguin()\n",
    "print(\"\\nPolymorphism examples\")\n",
    "print(make_bird_fly(eagle))   # Output: Flying high!\n",
    "print(make_bird_fly(penguin)) # Output: Penguins can't fly.\n",
    "\n"
   ]
  },
  {
   "cell_type": "markdown",
   "id": "db96e0e0-961e-421d-b758-6f42050eb8bf",
   "metadata": {},
   "source": [
    "### Advantages of OOP\n",
    "\n",
    "1. **Modularity**:\n",
    "   - OOP breaks down the program into objects (self-contained units), making the code modular. This modularity makes the code easier to manage and understand.\n",
    "\n",
    "2. **Reusability**:\n",
    "   - Once a class is written, it can be reused in multiple programs. Inheritance allows you to reuse existing code and add new features with minimal changes.\n",
    "\n",
    "3. **Scalability and Maintainability**:\n",
    "   - OOP makes it easier to maintain and modify existing code, as objects can be modified independently of other objects. This is particularly beneficial for large and complex systems.\n",
    "\n",
    "4. **Encapsulation**:\n",
    "   - Encapsulation hides the internal state of the object from the outside world and only exposes a controlled interface. This helps in reducing system complexity and increases security.\n",
    "\n",
    "5. **Abstraction**:\n",
    "   - OOP allows the creation of complex systems with a clear separation between abstract interfaces and concrete implementations. This abstraction layer helps in managing the system complexity by exposing only necessary parts to the user.\n",
    "\n",
    "6. **Polymorphism**:\n",
    "   - Polymorphism allows methods to be used interchangeably across different objects. It enables flexibility and the integration of different classes into one unified interface.\n",
    "\n",
    "### Summary\n",
    "\n",
    "OOP helps in creating programs that are easier to understand, manage, and maintain by promoting modularity, reusability, scalability, encapsulation, abstraction, and polymorphism. It aligns well with real-world scenarios and provides a structured way of programming."
   ]
  },
  {
   "cell_type": "markdown",
   "id": "3848d9b0-ecaa-4881-b751-5af3c81d0b88",
   "metadata": {},
   "source": [
    "# Function Arguments \n",
    "\n",
    "- Positional\n",
    "- Keyword\n",
    "- Argument list (*args)\n",
    "- Keyword argument list (**kwargs)\n",
    "\n",
    "*args and **kwargs are default names - we should change them if we use them. \n",
    "\n",
    "Function args should be easy to read and to change.\n",
    "\n",
    "There is no 'private' keyword in Python (unlike languages like Java/C#) so instead there is a convention for marking class attributes as private/internal, and that is to prefix the attribute name with an \"_\" for example `sys._getframe` \n",
    "\n",
    "In a function you should strive to return values from *one* place, to help make it easier to read/debug. \n",
    "\n",
    "There are two main ways to exit from a function: \n",
    "1. upon error\n",
    "2. with a return value after the function has been processed normally\n",
    "\n",
    "In cases where the function cannot perform correctl, it can be appropriate to return a `None` or a `false` value. \n",
    "\n",
    "Return early if error detected (indent unhappy path?) \n",
    "\n",
    "Pythonic ways to test truthiness / nulls:\n",
    "`if attr:` or `if not attr:` \n",
    "`if attr is None` \n",
    "\n",
    "## Dictionary \n",
    "Check if a key exists in a `dict` with `dict.get()` or `dict.has_key()`\n",
    "\n",
    "## List comprehensions \n",
    "`map()` and `filter()` functions are very useful here \n",
    "\n",
    "### Filter\n",
    "\n",
    "```\n",
    "a = [3, 4, 5]\n",
    "b = filter(lambda x: x > 4, a)\n",
    "```\n",
    "\n",
    "### Map \n",
    "\n",
    "```\n",
    "a = [3, 4, 5]\n",
    "a = map(lambda i: i+3, a)\n",
    "```\n",
    "\n",
    "### Enumerate \n",
    "Use `enumerate()` to keep a count of your place in the list - better optimised for iterators. \n",
    "\n",
    "### Unpacking\n",
    "\n",
    "`a, b = b, a` \n",
    "\n",
    "Want to ignore a value while unpacking? use \"__\". This is because single underscore can be used as an alias for `gettext.gettext()` function, and also used at the interactive prompt to hold value of the last operation. \n",
    "\n",
    "### Join by using empty string\n",
    "\n",
    "Another idiom in Python is to join a list of letters by joining and empty string. \n",
    "\n",
    "```\n",
    "letters = ['s', 'p', 'a', 'm']\n",
    "word = ''.join(letters)\n",
    "```\n",
    "\n",
    "### List and set\n",
    "\n",
    "`list` we know. `set` is a hastable, but not key value pair (that is a `dict`)\n",
    "\n"
   ]
  },
  {
   "cell_type": "code",
   "execution_count": 54,
   "id": "7d51e5dc-504a-4c1e-8816-4842495691de",
   "metadata": {},
   "outputs": [
    {
     "name": "stdout",
     "output_type": "stream",
     "text": [
      "5\n"
     ]
    }
   ],
   "source": [
    "a = [3, 4, 5]\n",
    "b = filter(lambda x: x > 4, a)\n",
    "# List comprehension style\n",
    "#b = [x for x in a if x > 4]\n",
    "for v in b:\n",
    "    print(v)"
   ]
  },
  {
   "cell_type": "code",
   "execution_count": 59,
   "id": "8e4489cf-eee6-443e-9b20-92e754e42511",
   "metadata": {},
   "outputs": [
    {
     "name": "stdout",
     "output_type": "stream",
     "text": [
      "6\n",
      "7\n",
      "8\n"
     ]
    }
   ],
   "source": [
    "a = [3, 4, 5]\n",
    "a = map(lambda i: i+3, a)\n",
    "for x in a:\n",
    "    print(x)"
   ]
  },
  {
   "cell_type": "code",
   "execution_count": 61,
   "id": "a12764c3-aac1-4740-89d9-e63df201859d",
   "metadata": {},
   "outputs": [
    {
     "name": "stdout",
     "output_type": "stream",
     "text": [
      "spam\n"
     ]
    }
   ],
   "source": [
    "letters = ['s', 'p', 'a', 'm']\n",
    "word = ''.join(letters)\n",
    "print(word)"
   ]
  },
  {
   "cell_type": "code",
   "execution_count": null,
   "id": "b24348ed-10b4-4089-adcf-9536cf37e63c",
   "metadata": {},
   "outputs": [],
   "source": []
  }
 ],
 "metadata": {
  "kernelspec": {
   "display_name": "Python 3 (ipykernel)",
   "language": "python",
   "name": "python3"
  },
  "language_info": {
   "codemirror_mode": {
    "name": "ipython",
    "version": 3
   },
   "file_extension": ".py",
   "mimetype": "text/x-python",
   "name": "python",
   "nbconvert_exporter": "python",
   "pygments_lexer": "ipython3",
   "version": "3.11.8"
  }
 },
 "nbformat": 4,
 "nbformat_minor": 5
}
